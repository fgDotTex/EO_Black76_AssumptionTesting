{
 "cells": [
  {
   "cell_type": "code",
   "execution_count": 119,
   "id": "cff2acfe-30fb-4004-ac43-8ef2d162cf26",
   "metadata": {},
   "outputs": [],
   "source": [
    "import json\n",
    "import os\n",
    "import pandas as pd\n",
    "\n",
    "import math\n"
   ]
  },
  {
   "cell_type": "code",
   "execution_count": 120,
   "id": "bd2f4e61-c514-4892-8e29-012e80aaa408",
   "metadata": {},
   "outputs": [],
   "source": [
    "#open file\n",
    "\n",
    "fileList = os.listdir(\"data\")\n",
    "\n",
    "#fileList\n",
    "f = open(\"data/\"+\"ESZ06.json\")\n",
    "\n",
    "data = json.load(f)"
   ]
  },
  {
   "cell_type": "code",
   "execution_count": 121,
   "id": "90f7b8e8-f3d8-4a17-8ffb-e328a8195334",
   "metadata": {},
   "outputs": [],
   "source": [
    "#Can't read pandas directly, unstrucutred messed of a file\n",
    "#pdData = pd.read_json(\"data/\"+fileList[0])"
   ]
  },
  {
   "cell_type": "code",
   "execution_count": 122,
   "id": "82a484f7-6167-4685-924c-403d1f8acbb7",
   "metadata": {},
   "outputs": [],
   "source": [
    "type(data.keys())\n",
    "\n",
    "a = set([1,2,3])"
   ]
  },
  {
   "cell_type": "code",
   "execution_count": null,
   "id": "1232b4fc-f856-4168-9639-fd98e1256645",
   "metadata": {},
   "outputs": [],
   "source": []
  },
  {
   "cell_type": "code",
   "execution_count": 123,
   "id": "31db2072-a862-4bf2-8559-2238139b6e66",
   "metadata": {},
   "outputs": [],
   "source": [
    "sample = data[\"data\"]\n",
    "dfKeys = set(sample[0].keys()).difference({\"raw\"})\n",
    "#Maybe don't set-ify an ordered collenction\n",
    "df = pd.DataFrame(sample, columns=list(dfKeys))"
   ]
  },
  {
   "cell_type": "code",
   "execution_count": 124,
   "id": "7fa25263-5430-4ca5-a4d6-3194bbbb8b80",
   "metadata": {},
   "outputs": [
    {
     "data": {
      "text/html": [
       "<div>\n",
       "<style scoped>\n",
       "    .dataframe tbody tr th:only-of-type {\n",
       "        vertical-align: middle;\n",
       "    }\n",
       "\n",
       "    .dataframe tbody tr th {\n",
       "        vertical-align: top;\n",
       "    }\n",
       "\n",
       "    .dataframe thead th {\n",
       "        text-align: right;\n",
       "    }\n",
       "</style>\n",
       "<table border=\"1\" class=\"dataframe\">\n",
       "  <thead>\n",
       "    <tr style=\"text-align: right;\">\n",
       "      <th></th>\n",
       "      <th>tradeTime</th>\n",
       "      <th>lowPrice</th>\n",
       "      <th>volume</th>\n",
       "      <th>percentChange</th>\n",
       "      <th>openPrice</th>\n",
       "      <th>openInterest</th>\n",
       "      <th>lastPrice</th>\n",
       "      <th>priceChange</th>\n",
       "      <th>highPrice</th>\n",
       "    </tr>\n",
       "  </thead>\n",
       "  <tbody>\n",
       "    <tr>\n",
       "      <th>0</th>\n",
       "      <td>12/15/2006</td>\n",
       "      <td>1,425.25</td>\n",
       "      <td>0</td>\n",
       "      <td>+0.19%</td>\n",
       "      <td>1,426.00</td>\n",
       "      <td>0</td>\n",
       "      <td>1,428.74</td>\n",
       "      <td>+2.74</td>\n",
       "      <td>1,432.75</td>\n",
       "    </tr>\n",
       "    <tr>\n",
       "      <th>1</th>\n",
       "      <td>12/14/2006</td>\n",
       "      <td>1,412.00</td>\n",
       "      <td>216,489</td>\n",
       "      <td>+0.83%</td>\n",
       "      <td>1,414.00</td>\n",
       "      <td>944,337</td>\n",
       "      <td>1,426.00</td>\n",
       "      <td>+11.75</td>\n",
       "      <td>1,427.50</td>\n",
       "    </tr>\n",
       "    <tr>\n",
       "      <th>2</th>\n",
       "      <td>12/13/2006</td>\n",
       "      <td>1,410.75</td>\n",
       "      <td>219,370</td>\n",
       "      <td>+0.11%</td>\n",
       "      <td>1,413.00</td>\n",
       "      <td>974,110</td>\n",
       "      <td>1,414.25</td>\n",
       "      <td>+1.50</td>\n",
       "      <td>1,418.50</td>\n",
       "    </tr>\n",
       "    <tr>\n",
       "      <th>3</th>\n",
       "      <td>12/12/2006</td>\n",
       "      <td>1,405.00</td>\n",
       "      <td>333,953</td>\n",
       "      <td>-0.12%</td>\n",
       "      <td>1,414.75</td>\n",
       "      <td>1,142,457</td>\n",
       "      <td>1,412.75</td>\n",
       "      <td>-1.75</td>\n",
       "      <td>1,414.75</td>\n",
       "    </tr>\n",
       "    <tr>\n",
       "      <th>4</th>\n",
       "      <td>12/11/2006</td>\n",
       "      <td>1,409.50</td>\n",
       "      <td>294,738</td>\n",
       "      <td>+0.32%</td>\n",
       "      <td>1,409.75</td>\n",
       "      <td>1,222,469</td>\n",
       "      <td>1,414.50</td>\n",
       "      <td>+4.50</td>\n",
       "      <td>1,417.00</td>\n",
       "    </tr>\n",
       "    <tr>\n",
       "      <th>...</th>\n",
       "      <td>...</td>\n",
       "      <td>...</td>\n",
       "      <td>...</td>\n",
       "      <td>...</td>\n",
       "      <td>...</td>\n",
       "      <td>...</td>\n",
       "      <td>...</td>\n",
       "      <td>...</td>\n",
       "      <td>...</td>\n",
       "    </tr>\n",
       "    <tr>\n",
       "      <th>59</th>\n",
       "      <td>09/22/2006</td>\n",
       "      <td>1,321.00</td>\n",
       "      <td>892,984</td>\n",
       "      <td>-0.32%</td>\n",
       "      <td>1,330.00</td>\n",
       "      <td>1,346,924</td>\n",
       "      <td>1,326.00</td>\n",
       "      <td>-4.25</td>\n",
       "      <td>1,331.50</td>\n",
       "    </tr>\n",
       "    <tr>\n",
       "      <th>60</th>\n",
       "      <td>09/21/2006</td>\n",
       "      <td>1,325.50</td>\n",
       "      <td>1,248,340</td>\n",
       "      <td>-0.47%</td>\n",
       "      <td>1,336.50</td>\n",
       "      <td>1,352,953</td>\n",
       "      <td>1,330.25</td>\n",
       "      <td>-6.25</td>\n",
       "      <td>1,340.00</td>\n",
       "    </tr>\n",
       "    <tr>\n",
       "      <th>61</th>\n",
       "      <td>09/20/2006</td>\n",
       "      <td>1,329.50</td>\n",
       "      <td>970,246</td>\n",
       "      <td>+0.45%</td>\n",
       "      <td>1,330.75</td>\n",
       "      <td>1,324,711</td>\n",
       "      <td>1,336.50</td>\n",
       "      <td>+6.00</td>\n",
       "      <td>1,339.75</td>\n",
       "    </tr>\n",
       "    <tr>\n",
       "      <th>62</th>\n",
       "      <td>09/19/2006</td>\n",
       "      <td>1,322.75</td>\n",
       "      <td>1,176,450</td>\n",
       "      <td>-0.28%</td>\n",
       "      <td>1,333.75</td>\n",
       "      <td>1,303,729</td>\n",
       "      <td>1,330.50</td>\n",
       "      <td>-3.75</td>\n",
       "      <td>1,334.50</td>\n",
       "    </tr>\n",
       "    <tr>\n",
       "      <th>63</th>\n",
       "      <td>09/18/2006</td>\n",
       "      <td>1,329.00</td>\n",
       "      <td>799,315</td>\n",
       "      <td>+0.15%</td>\n",
       "      <td>1,331.50</td>\n",
       "      <td>1,313,586</td>\n",
       "      <td>1,334.25</td>\n",
       "      <td>+2.00</td>\n",
       "      <td>1,336.50</td>\n",
       "    </tr>\n",
       "  </tbody>\n",
       "</table>\n",
       "<p>64 rows × 9 columns</p>\n",
       "</div>"
      ],
      "text/plain": [
       "     tradeTime  lowPrice     volume percentChange openPrice openInterest  \\\n",
       "0   12/15/2006  1,425.25          0        +0.19%  1,426.00            0   \n",
       "1   12/14/2006  1,412.00    216,489        +0.83%  1,414.00      944,337   \n",
       "2   12/13/2006  1,410.75    219,370        +0.11%  1,413.00      974,110   \n",
       "3   12/12/2006  1,405.00    333,953        -0.12%  1,414.75    1,142,457   \n",
       "4   12/11/2006  1,409.50    294,738        +0.32%  1,409.75    1,222,469   \n",
       "..         ...       ...        ...           ...       ...          ...   \n",
       "59  09/22/2006  1,321.00    892,984        -0.32%  1,330.00    1,346,924   \n",
       "60  09/21/2006  1,325.50  1,248,340        -0.47%  1,336.50    1,352,953   \n",
       "61  09/20/2006  1,329.50    970,246        +0.45%  1,330.75    1,324,711   \n",
       "62  09/19/2006  1,322.75  1,176,450        -0.28%  1,333.75    1,303,729   \n",
       "63  09/18/2006  1,329.00    799,315        +0.15%  1,331.50    1,313,586   \n",
       "\n",
       "   lastPrice priceChange highPrice  \n",
       "0   1,428.74       +2.74  1,432.75  \n",
       "1   1,426.00      +11.75  1,427.50  \n",
       "2   1,414.25       +1.50  1,418.50  \n",
       "3   1,412.75       -1.75  1,414.75  \n",
       "4   1,414.50       +4.50  1,417.00  \n",
       "..       ...         ...       ...  \n",
       "59  1,326.00       -4.25  1,331.50  \n",
       "60  1,330.25       -6.25  1,340.00  \n",
       "61  1,336.50       +6.00  1,339.75  \n",
       "62  1,330.50       -3.75  1,334.50  \n",
       "63  1,334.25       +2.00  1,336.50  \n",
       "\n",
       "[64 rows x 9 columns]"
      ]
     },
     "execution_count": 124,
     "metadata": {},
     "output_type": "execute_result"
    }
   ],
   "source": [
    "df"
   ]
  },
  {
   "cell_type": "code",
   "execution_count": 125,
   "id": "49618217-e7eb-4f1a-920b-5eef7d01d63f",
   "metadata": {},
   "outputs": [],
   "source": [
    "#Lazy conversion on my end, could've used locales\n",
    "#str -> specify non total item replacement\n",
    "df[\"lastPrice\"] = df[\"lastPrice\"].str.replace(\",\",\"\").astype(\"float64\")\n",
    "df[\"tradeTime\"] = df[\"tradeTime\"].apply(pd.to_datetime)"
   ]
  },
  {
   "cell_type": "code",
   "execution_count": 126,
   "id": "5db8af31-4887-4f57-8c07-a22833b1a386",
   "metadata": {},
   "outputs": [
    {
     "data": {
      "text/plain": [
       "tradeTime        datetime64[ns]\n",
       "lowPrice                 object\n",
       "volume                   object\n",
       "percentChange            object\n",
       "openPrice                object\n",
       "openInterest             object\n",
       "lastPrice               float64\n",
       "priceChange              object\n",
       "highPrice                object\n",
       "dtype: object"
      ]
     },
     "execution_count": 126,
     "metadata": {},
     "output_type": "execute_result"
    }
   ],
   "source": [
    "df.dtypes"
   ]
  },
  {
   "cell_type": "code",
   "execution_count": 127,
   "id": "33c8204e-276a-43b2-8a97-fab99cadf072",
   "metadata": {},
   "outputs": [],
   "source": [
    "import seaborn"
   ]
  },
  {
   "cell_type": "code",
   "execution_count": 128,
   "id": "86341ddc-a63c-47f2-964f-0d6a82e4c77f",
   "metadata": {},
   "outputs": [],
   "source": [
    "#sample = [(x[\"tradeTime\"],x[\"lastPrice\"]) for x in data[\"data\"]]"
   ]
  },
  {
   "cell_type": "code",
   "execution_count": null,
   "id": "7e502a97-0d97-4696-ac3f-15b2091b8948",
   "metadata": {},
   "outputs": [],
   "source": []
  },
  {
   "cell_type": "code",
   "execution_count": 129,
   "id": "a61b02c7-f01d-4107-a869-373f92207642",
   "metadata": {},
   "outputs": [
    {
     "data": {
      "text/plain": [
       "Text(0, 0.5, 'Last Price')"
      ]
     },
     "execution_count": 129,
     "metadata": {},
     "output_type": "execute_result"
    },
    {
     "data": {
      "image/png": "[encoded data removed]",
      "text/plain": [
       "<Figure size 640x480 with 1 Axes>"
      ]
     },
     "metadata": {},
     "output_type": "display_data"
    }
   ],
   "source": [
    "ss = seaborn.lineplot(x=\"tradeTime\", y=\"lastPrice\", data=df)\n",
    "ss.set_xlabel(\"Date\")\n",
    "ss.set_ylabel(\"Last Price\")"
   ]
  },
  {
   "cell_type": "code",
   "execution_count": 130,
   "id": "4b2da7ba-9885-4de0-a6ec-a51e171e2561",
   "metadata": {},
   "outputs": [
    {
     "data": {
      "text/plain": [
       "Timedelta('88 days 00:00:00')"
      ]
     },
     "execution_count": 130,
     "metadata": {},
     "output_type": "execute_result"
    }
   ],
   "source": [
    "max(df[\"tradeTime\"])-min(df[\"tradeTime\"])"
   ]
  },
  {
   "cell_type": "code",
   "execution_count": null,
   "id": "0cb6305f-82f7-4d00-9910-2fcd8f5cb0a7",
   "metadata": {},
   "outputs": [],
   "source": []
  },
  {
   "cell_type": "code",
   "execution_count": 131,
   "id": "30ee8119-1d09-4acb-90bd-42a46f81627e",
   "metadata": {},
   "outputs": [],
   "source": [
    "logRets = (df[\"lastPrice\"].shift(1)/df[\"lastPrice\"]).apply(math.log) #Indexes kept"
   ]
  },
  {
   "cell_type": "code",
   "execution_count": 132,
   "id": "34b7a140-6a84-4e98-b7e4-0f8eeef6e1d4",
   "metadata": {},
   "outputs": [],
   "source": [
    "#Add to \n",
    "df[\"logReturns\"] = logRets\n",
    "#Indexes are kept throughout series!\n",
    "df = df.drop(0) #drop the first entry for simplicity"
   ]
  },
  {
   "cell_type": "code",
   "execution_count": 133,
   "id": "6e55af07-60d8-42ee-99a7-86c739d54b61",
   "metadata": {},
   "outputs": [
    {
     "data": {
      "text/plain": [
       "<Axes: xlabel='tradeTime', ylabel='logReturns'>"
      ]
     },
     "execution_count": 133,
     "metadata": {},
     "output_type": "execute_result"
    },
    {
     "data": {
      "image/png": "[encoded data removed]",
      "text/plain": [
       "<Figure size 640x480 with 1 Axes>"
      ]
     },
     "metadata": {},
     "output_type": "display_data"
    }
   ],
   "source": [
    "seaborn.lineplot(x=\"tradeTime\", y=\"logReturns\", data=df)"
   ]
  },
  {
   "cell_type": "code",
   "execution_count": 134,
   "id": "c9225514-00a9-479b-a971-02a518105510",
   "metadata": {},
   "outputs": [
    {
     "data": {
      "text/plain": [
       "(array([ 1.,  0.,  1.,  4.,  8., 19., 16.,  5.,  5.,  4.]),\n",
       " array([-0.01399628, -0.01148615, -0.00897601, -0.00646588, -0.00395575,\n",
       "        -0.00144561,  0.00106452,  0.00357465,  0.00608479,  0.00859492,\n",
       "         0.01110506]),\n",
       " <BarContainer object of 10 artists>)"
      ]
     },
     "execution_count": 134,
     "metadata": {},
     "output_type": "execute_result"
    },
    {
     "data": {
      "image/png": "[encoded data removed]",
      "text/plain": [
       "<Figure size 640x480 with 1 Axes>"
      ]
     },
     "metadata": {},
     "output_type": "display_data"
    }
   ],
   "source": [
    "import matplotlib.pyplot as plt\n",
    "plt.hist(df[\"logReturns\"], edgecolor='black')"
   ]
  },
  {
   "cell_type": "code",
   "execution_count": 135,
   "id": "13176a9a-fe7d-4019-bcb1-6d6ae2469540",
   "metadata": {},
   "outputs": [],
   "source": [
    "import statsmodels.api as sm"
   ]
  },
  {
   "cell_type": "code",
   "execution_count": 136,
   "id": "b5d23322-688b-49bd-8dce-d7e842ddcc9b",
   "metadata": {},
   "outputs": [],
   "source": [
    "#Setup dist\n",
    "import scipy.stats\n",
    "\n",
    "#Assuming daily returns, ignoring weekends and bank holidays\n",
    "bmStdDev = df[\"logReturns\"].std()\n",
    "bMotion = scipy.stats.norm(loc=0, scale=bmStdDev)"
   ]
  },
  {
   "cell_type": "code",
   "execution_count": 137,
   "id": "09688c89-331d-46a6-a490-718053a569a0",
   "metadata": {},
   "outputs": [
    {
     "data": {
      "image/png": "[encoded data removed]",
      "text/plain": [
       "<Figure size 640x480 with 1 Axes>"
      ]
     },
     "metadata": {},
     "output_type": "display_data"
    }
   ],
   "source": [
    "fig = sm.qqplot(df[\"logReturns\"][1:], dist=bMotion, line='45')"
   ]
  },
  {
   "cell_type": "code",
   "execution_count": 66,
   "id": "2a361955-59c1-4036-9dc5-ed30ad013f25",
   "metadata": {},
   "outputs": [
    {
     "data": {
      "text/plain": [
       "ShapiroResult(statistic=0.9807717198484012, pvalue=0.42849579415746947)"
      ]
     },
     "execution_count": 66,
     "metadata": {},
     "output_type": "execute_result"
    }
   ],
   "source": [
    "#Null Hyp: The underlying dist is normal\n",
    "scipy.stats.shapiro(df[\"logReturns\"])"
   ]
  },
  {
   "cell_type": "code",
   "execution_count": 22,
   "id": "93ea6d8f-0a44-4f9e-a9bd-c931d97aa095",
   "metadata": {},
   "outputs": [
    {
     "data": {
      "text/plain": [
       "2     0.044678\n",
       "3     0.023936\n",
       "4    -0.015479\n",
       "5    -0.011499\n",
       "6    -0.003388\n",
       "        ...   \n",
       "59    0.014974\n",
       "60    0.002575\n",
       "61    0.013497\n",
       "62   -0.006598\n",
       "63    0.004684\n",
       "Name: logReturns, Length: 62, dtype: float64"
      ]
     },
     "execution_count": 22,
     "metadata": {},
     "output_type": "execute_result"
    }
   ],
   "source": [
    "df[\"logReturns\"][1:]"
   ]
  },
  {
   "cell_type": "code",
   "execution_count": 81,
   "id": "56b769a8-1e46-48e5-a545-4156d9783da8",
   "metadata": {},
   "outputs": [],
   "source": [
    "def logRet_shapiroTest(str):\n",
    "    with open(\"data/\"+str) as f:\n",
    "        data = json.load(f)\n",
    "\n",
    "    sample = data[\"data\"]\n",
    "    dfKeys = set(sample[0].keys()).difference({\"raw\"})\n",
    "    #Maybe don't set-ify an ordered collenction\n",
    "    df = pd.DataFrame(sample, columns=list(dfKeys))\n",
    "\n",
    "    df[\"lastPrice\"] = df[\"lastPrice\"].str.replace(\",\",\"\").astype(\"float64\")\n",
    "    df[\"tradeTime\"] = df[\"tradeTime\"].apply(pd.to_datetime)\n",
    "\n",
    "    logRets = (df[\"lastPrice\"].shift(1)/df[\"lastPrice\"]).apply(math.log) #Indexes kept\n",
    "    df[\"logReturns\"] = logRets\n",
    "    #Indexes are kept throughout series!\n",
    "    df = df.drop(0) #drop the first entry for simplicity\n",
    "\n",
    "    bmStdDev = df[\"logReturns\"].std()\n",
    "    bMotion = scipy.stats.norm(loc=0, scale=bmStdDev)\n",
    "\n",
    "    #Null Hyp: The underlying dist is normal\n",
    "    return scipy.stats.shapiro(df[\"logReturns\"]).pvalue\n"
   ]
  },
  {
   "cell_type": "code",
   "execution_count": 83,
   "id": "97ea282f-4f24-4880-9867-b47c7e586ced",
   "metadata": {},
   "outputs": [
    {
     "data": {
      "text/plain": [
       "0.42849579415746947"
      ]
     },
     "execution_count": 83,
     "metadata": {},
     "output_type": "execute_result"
    }
   ],
   "source": [
    "logRet_shapiroTest(fileList[0])"
   ]
  },
  {
   "cell_type": "code",
   "execution_count": 74,
   "id": "9e62edff-2eef-4787-bd2a-02949eec04c7",
   "metadata": {},
   "outputs": [
    {
     "data": {
      "text/plain": [
       "'ESH00.json'"
      ]
     },
     "execution_count": 74,
     "metadata": {},
     "output_type": "execute_result"
    }
   ],
   "source": [
    "fileList[0]"
   ]
  },
  {
   "cell_type": "code",
   "execution_count": 89,
   "id": "575f6f0f-cddd-4520-8034-5678303ac4ca",
   "metadata": {},
   "outputs": [],
   "source": [
    "testResults = [(x, logRet_shapiroTest(x)) for x in os.listdir(\"data\")]"
   ]
  },
  {
   "cell_type": "code",
   "execution_count": 109,
   "id": "e91d4d28-a000-4c2f-8206-ea73df306ca8",
   "metadata": {},
   "outputs": [],
   "source": [
    "import re"
   ]
  },
  {
   "cell_type": "code",
   "execution_count": 110,
   "id": "846bca83-db43-4ede-9f7b-335700b37a70",
   "metadata": {},
   "outputs": [],
   "source": [
    "testResults.sort(key = lambda xs: re.sub(\"^([a-zA-Z]+)([0-9]+)\", \"\\\\2\\\\1\", xs[0])) #Python's RE's are annoyingly close to vims"
   ]
  },
  {
   "cell_type": "code",
   "execution_count": 113,
   "id": "8b992753-6c28-4ed9-9b24-7842930323f7",
   "metadata": {},
   "outputs": [
    {
     "data": {
      "text/plain": [
       "[('ESH00.json', 0.42849579415746947),\n",
       " ('ESM00.json', 0.0063358213883641665),\n",
       " ('ESU00.json', 0.5259736240549313),\n",
       " ('ESZ00.json', 0.010471633567879782),\n",
       " ('ESH01.json', 0.15290983530385394),\n",
       " ('ESM01.json', 0.7729622826916323),\n",
       " ('ESU01.json', 0.0042875978082339),\n",
       " ('ESZ01.json', 0.16358181158370394),\n",
       " ('ESH02.json', 0.2132069608861651),\n",
       " ('ESM02.json', 0.25344551346195565),\n",
       " ('ESU02.json', 0.281098265148784),\n",
       " ('ESZ02.json', 0.29407277927188313),\n",
       " ('ESH03.json', 0.2889709753969352),\n",
       " ('ESM03.json', 0.3572402298741022),\n",
       " ('ESU03.json', 0.9121604968072285),\n",
       " ('ESZ03.json', 0.47461146529060866),\n",
       " ('ESH04.json', 0.23235897336807054),\n",
       " ('ESM04.json', 0.2479168981984718),\n",
       " ('ESU04.json', 0.10506854270887084),\n",
       " ('ESZ04.json', 0.12389720800212178),\n",
       " ('ESH05.json', 0.3436704719134535),\n",
       " ('ESM05.json', 0.2011481802492373),\n",
       " ('ESU05.json', 0.815080012906108),\n",
       " ('ESZ05.json', 0.5133250267943034),\n",
       " ('ESH06.json', 0.37685862425664773),\n",
       " ('ESM06.json', 0.7062640925232222),\n",
       " ('ESU06.json', 0.37091451031529843),\n",
       " ('ESZ06.json', 0.05969879589227293),\n",
       " ('ESH07.json', 1.950603137287955e-07),\n",
       " ('ESM07.json', 0.07907337608743262),\n",
       " ('ESU07.json', 0.6670492792081751),\n",
       " ('ESZ07.json', 0.22461592721768098),\n",
       " ('ESH08.json', 0.04998831162551574),\n",
       " ('ESM08.json', 0.018979188422959654),\n",
       " ('ESU08.json', 0.18223756102028932),\n",
       " ('ESZ08.json', 0.509369807676171),\n",
       " ('ESH09.json', 0.8575359268677203),\n",
       " ('ESM09.json', 0.21821775579752795),\n",
       " ('ESU09.json', 0.005110150644542229),\n",
       " ('ESZ09.json', 0.7618649097260757),\n",
       " ('ESH10.json', 0.000340040182624239),\n",
       " ('ESM10.json', 0.07048256747742532),\n",
       " ('ESU10.json', 0.13388950518006865),\n",
       " ('ESZ10.json', 0.003060990719558058),\n",
       " ('ESH11.json', 0.006456998822136218),\n",
       " ('ESM11.json', 0.2531475049818549),\n",
       " ('ESU11.json', 0.00599291407679174),\n",
       " ('ESZ11.json', 0.7072513392760128),\n",
       " ('ESH12.json', 0.0020749470045821404),\n",
       " ('ESM12.json', 0.8681860860203579),\n",
       " ('ESU12.json', 0.012377285559009533),\n",
       " ('ESZ12.json', 0.21705430565276174),\n",
       " ('ESH13.json', 0.0015698906629474743),\n",
       " ('ESM13.json', 0.02234752920384157),\n",
       " ('ESU13.json', 0.06903799524893835),\n",
       " ('ESZ13.json', 0.3416764957581011),\n",
       " ('ESH14.json', 0.0023182733427181707),\n",
       " ('ESM14.json', 0.0009628188424439375),\n",
       " ('ESU14.json', 0.0009897296982804954),\n",
       " ('ESZ14.json', 0.18150429039873284),\n",
       " ('ESH15.json', 0.6406262244816396),\n",
       " ('ESM15.json', 0.7774580594301133),\n",
       " ('ESU15.json', 0.0010637194689854066),\n",
       " ('ESZ15.json', 0.4782536104286978),\n",
       " ('ESH16.json', 0.7910668507433787),\n",
       " ('ESM16.json', 0.40782445907521403),\n",
       " ('ESU16.json', 4.4182373290185764e-07),\n",
       " ('ESZ16.json', 0.012198792227133668),\n",
       " ('ESH17.json', 0.28881176876349063),\n",
       " ('ESM17.json', 7.72262550078136e-05),\n",
       " ('ESU17.json', 2.610598082264838e-05),\n",
       " ('ESZ17.json', 0.2781287944988167),\n",
       " ('ESH18.json', 2.277416269993127e-06),\n",
       " ('ESM18.json', 0.07274200334372523),\n",
       " ('ESU18.json', 0.23507442224772884),\n",
       " ('ESZ18.json', 0.36350069706533883),\n",
       " ('ESH19.json', 4.762511126555587e-05),\n",
       " ('ESM19.json', 0.011528057422998339),\n",
       " ('ESU19.json', 0.0006233990800306829),\n",
       " ('ESZ19.json', 0.02050442216639167),\n",
       " ('ESH20.json', 2.26937221471565e-07),\n",
       " ('ESM20.json', 0.03403292437069352),\n",
       " ('ESU20.json', 0.002838285434270829),\n",
       " ('ESZ20.json', 0.08835426804368081),\n",
       " ('ESH21.json', 0.17958797431481022),\n",
       " ('ESM21.json', 0.3633014840920523),\n",
       " ('ESU21.json', 0.892861768693905),\n",
       " ('ESZ21.json', 0.3965838073693199),\n",
       " ('ESH22.json', 0.46705231275855497),\n",
       " ('ESM22.json', 0.13144389346032376),\n",
       " ('ESU22.json', 0.05887580483253849),\n",
       " ('ESH98.json', 0.05394624284961656),\n",
       " ('ESM98.json', 0.6343225221269637),\n",
       " ('ESU98.json', 0.00019297326576959308),\n",
       " ('ESZ98.json', 0.07166894123614473),\n",
       " ('ESH99.json', 0.9433836837312121),\n",
       " ('ESM99.json', 0.9806963771039585),\n",
       " ('ESU99.json', 0.4340248156125024),\n",
       " ('ESZ99.json', 0.6140790662824502)]"
      ]
     },
     "execution_count": 113,
     "metadata": {},
     "output_type": "execute_result"
    }
   ],
   "source": [
    "testResults"
   ]
  },
  {
   "cell_type": "code",
   "execution_count": 118,
   "id": "8e59b373-6ad6-4243-b1b5-0b4b83383956",
   "metadata": {},
   "outputs": [
    {
     "data": {
      "text/plain": [
       "['ESM00.json',\n",
       " 'ESZ00.json',\n",
       " 'ESU01.json',\n",
       " 'ESZ06.json',\n",
       " 'ESH07.json',\n",
       " 'ESM07.json',\n",
       " 'ESH08.json',\n",
       " 'ESM08.json',\n",
       " 'ESU09.json',\n",
       " 'ESH10.json',\n",
       " 'ESM10.json',\n",
       " 'ESZ10.json',\n",
       " 'ESH11.json',\n",
       " 'ESU11.json',\n",
       " 'ESH12.json',\n",
       " 'ESU12.json',\n",
       " 'ESH13.json',\n",
       " 'ESM13.json',\n",
       " 'ESU13.json',\n",
       " 'ESH14.json',\n",
       " 'ESM14.json',\n",
       " 'ESU14.json',\n",
       " 'ESU15.json',\n",
       " 'ESU16.json',\n",
       " 'ESZ16.json',\n",
       " 'ESM17.json',\n",
       " 'ESU17.json',\n",
       " 'ESH18.json',\n",
       " 'ESM18.json',\n",
       " 'ESH19.json',\n",
       " 'ESM19.json',\n",
       " 'ESU19.json',\n",
       " 'ESZ19.json',\n",
       " 'ESH20.json',\n",
       " 'ESM20.json',\n",
       " 'ESU20.json',\n",
       " 'ESZ20.json',\n",
       " 'ESU22.json',\n",
       " 'ESH98.json',\n",
       " 'ESU98.json',\n",
       " 'ESZ98.json']"
      ]
     },
     "execution_count": 118,
     "metadata": {},
     "output_type": "execute_result"
    }
   ],
   "source": [
    "infractors = [x for (x,p) in testResults if p < 0.1]\n",
    "infractors"
   ]
  }
 ],
 "metadata": {
  "kernelspec": {
   "display_name": "Python 3 (ipykernel)",
   "language": "python",
   "name": "python3"
  },
  "language_info": {
   "codemirror_mode": {
    "name": "ipython",
    "version": 3
   },
   "file_extension": ".py",
   "mimetype": "text/x-python",
   "name": "python",
   "nbconvert_exporter": "python",
   "pygments_lexer": "ipython3",
   "version": "3.12.3"
  }
 },
 "nbformat": 4,
 "nbformat_minor": 5
}
